{
 "cells": [
  {
   "cell_type": "code",
   "execution_count": 1,
   "metadata": {},
   "outputs": [
    {
     "name": "stdout",
     "output_type": "stream",
     "text": [
      "Loaded 99993 records\n"
     ]
    },
    {
     "name": "stderr",
     "output_type": "stream",
     "text": [
      "/var/folders/mv/b9ltvqrx32v5dbgr686z9psc0000gn/T/ipykernel_65544/1403080457.py:4: DtypeWarning: Columns (8) have mixed types. Specify dtype option on import or set low_memory=False.\n",
      "  df = pd.read_csv(path, parse_dates=[\"BaseDateTime\"] )\n"
     ]
    }
   ],
   "source": [
    "import pandas as pd\n",
    "\n",
    "def load_and_clean(path=\"chunk_0.csv\"):\n",
    "    df = pd.read_csv(path, parse_dates=[\"BaseDateTime\"] )\n",
    "    df = df.dropna(subset=[\"LAT\",\"LON\"])\n",
    "    df = df[(df.SOG >= 0) & (df.SOG <= 50)]\n",
    "    print(f\"Loaded {len(df)} records\")\n",
    "    return df\n",
    "\n",
    "df = load_and_clean()"
   ]
  },
  {
   "cell_type": "code",
   "execution_count": 2,
   "metadata": {},
   "outputs": [
    {
     "name": "stderr",
     "output_type": "stream",
     "text": [
      "/var/folders/mv/b9ltvqrx32v5dbgr686z9psc0000gn/T/ipykernel_65242/1653093601.py:13: DeprecationWarning: The 'unary_union' attribute is deprecated, use the 'union_all()' method instead.\n",
      "  gdf[\"inside_eez\"] = gdf.within(eez.unary_union)\n"
     ]
    }
   ],
   "source": [
    "import pandas as pd\n",
    "import geopandas as gpd\n",
    "\n",
    "# 1. Convert to GeoDataFrame (if not already)\n",
    "gdf = gpd.GeoDataFrame(\n",
    "    df,\n",
    "    geometry=gpd.points_from_xy(df.LON, df.LAT),\n",
    "    crs=\"EPSG:4326\"\n",
    ")\n",
    "\n",
    "# 2. Load EEZ and label inside_eez\n",
    "eez = gpd.read_file(\"World_EEZ_v12_20231025/eez_v12.shp\").to_crs(\"EPSG:4326\")\n",
    "gdf[\"inside_eez\"] = gdf.within(eez.unary_union)\n",
    "\n",
    "# 3. Compute previous inside flag per vessel\n",
    "gdf = gdf.sort_values([\"MMSI\",\"BaseDateTime\"])\n",
    "gdf[\"prev_inside\"] = gdf.groupby(\"MMSI\")[\"inside_eez\"].shift(fill_value=True)\n",
    "\n",
    "# 4. Identify departures and returns\n",
    "dep = gdf[(gdf.prev_inside) & (~gdf.inside_eez)][[\"MMSI\",\"BaseDateTime\"]] \n",
    "dep = dep.rename(columns={\"BaseDateTime\":\"departure_time\"})\n",
    "ret = gdf[(~gdf.prev_inside) & (gdf.inside_eez)][[\"MMSI\",\"BaseDateTime\"]]\n",
    "ret = ret.rename(columns={\"BaseDateTime\":\"return_time\"})\n",
    "\n",
    "# 5. Pair departures with next returns using merge_asof\n",
    "dep = dep.sort_values([\"MMSI\",\"departure_time\"])\n",
    "ret = ret.sort_values([\"MMSI\",\"return_time\"])\n",
    "trips_df = pd.merge_asof(\n",
    "    dep, ret, by=\"MMSI\",\n",
    "    left_on=\"departure_time\", right_on=\"return_time\",\n",
    "    direction=\"forward\", tolerance=pd.Timedelta(\"7 days\")\n",
    ")\n",
    "\n",
    "print(f\"Found {len(trips_df)} voyages\")"
   ]
  },
  {
   "cell_type": "code",
   "execution_count": 2,
   "metadata": {},
   "outputs": [
    {
     "ename": "NameError",
     "evalue": "name 'trips_df' is not defined",
     "output_type": "error",
     "traceback": [
      "\u001b[31m---------------------------------------------------------------------------\u001b[39m",
      "\u001b[31mNameError\u001b[39m                                 Traceback (most recent call last)",
      "\u001b[36mCell\u001b[39m\u001b[36m \u001b[39m\u001b[32mIn[2]\u001b[39m\u001b[32m, line 6\u001b[39m\n\u001b[32m      4\u001b[39m geod = Geod(ellps=\u001b[33m\"\u001b[39m\u001b[33mWGS84\u001b[39m\u001b[33m\"\u001b[39m)\n\u001b[32m      5\u001b[39m records = []\n\u001b[32m----> \u001b[39m\u001b[32m6\u001b[39m \u001b[38;5;28;01mfor\u001b[39;00m _, trip \u001b[38;5;129;01min\u001b[39;00m \u001b[43mtrips_df\u001b[49m.iterrows():\n\u001b[32m      7\u001b[39m     seg = gdf[\n\u001b[32m      8\u001b[39m         (gdf.MMSI==trip.MMSI) &\n\u001b[32m      9\u001b[39m         (gdf.BaseDateTime.between(trip.departure_time, trip.return_time))\n\u001b[32m     10\u001b[39m     ]\n\u001b[32m     11\u001b[39m     \u001b[38;5;28;01mif\u001b[39;00m \u001b[38;5;28mlen\u001b[39m(seg) < \u001b[32m2\u001b[39m:\n",
      "\u001b[31mNameError\u001b[39m: name 'trips_df' is not defined"
     ]
    }
   ],
   "source": [
    "from pyproj import Geod\n",
    "from shapely.geometry import LineString\n",
    "\n",
    "geod = Geod(ellps=\"WGS84\")\n",
    "records = []\n",
    "for _, trip in trips_df.iterrows():\n",
    "    seg = gdf[\n",
    "        (gdf.MMSI==trip.MMSI) &\n",
    "        (gdf.BaseDateTime.between(trip.departure_time, trip.return_time))\n",
    "    ]\n",
    "    if len(seg) < 2:\n",
    "        continue\n",
    "    line = LineString(seg.geometry.tolist())\n",
    "    dist_m = geod.line_length(seg.LON.values, seg.LAT.values)\n",
    "    records.append({\n",
    "        **trip.to_dict(),\n",
    "        \"duration_h\": (trip.return_time - trip.departure_time).total_seconds()/3600,\n",
    "        \"distance_km\": dist_m/1000,\n",
    "        \"mean_sog\": seg.SOG.mean(),\n",
    "        \"max_sog\": seg.SOG.max()\n",
    "    })\n",
    "voyage_feats = pd.DataFrame(records)\n",
    "print(f\"Engineered features for {len(voyage_feats)} voyages\")"
   ]
  },
  {
   "cell_type": "code",
   "execution_count": null,
   "metadata": {},
   "outputs": [],
   "source": [
    "from sklearn.preprocessing import StandardScaler\n",
    "from sklearn.ensemble import IsolationForest\n",
    "\n",
    "# Prepare features\n",
    "cols = [\"duration_h\",\"distance_km\",\"mean_sog\",\"max_sog\"]\n",
    "X = voyage_feats[cols].dropna()\n",
    "X_scaled = StandardScaler().fit_transform(X)\n",
    "\n",
    "# Fit model\n",
    "iso = IsolationForest(n_estimators=100, contamination=0.02, random_state=42)\n",
    "voyage_feats[\"anomaly_flag\"] = iso.fit_predict(X_scaled)\n",
    "\n",
    "# Summary\n",
    "print(voyage_feats[\"anomaly_flag\"].value_counts())"
   ]
  },
  {
   "cell_type": "code",
   "execution_count": null,
   "metadata": {},
   "outputs": [],
   "source": [
    "from arcgis.gis import GIS\n",
    "from arcgis.features import GeoAccessor\n",
    "import geopandas as gpd\n",
    "from shapely.geometry import LineString\n",
    "\n",
    "# Authenticate\n",
    "gis = GIS(\"https://www.arcgis.com\", \"vgaza1_newhaven\", \"Kavita@08\")\n",
    "\n",
    "# Build trips_gdf with line geometries\n",
    "records = []\n",
    "for _, trip in voyage_feats.iterrows():\n",
    "    seg = gdf[(gdf.MMSI==trip.MMSI) &\n",
    "              (gdf.BaseDateTime.between(trip.departure_time, trip.return_time))]\n",
    "    if len(seg)<2: continue\n",
    "    line = LineString(seg.geometry.tolist())\n",
    "    rec = trip.to_dict()\n",
    "    rec[\"geometry\"] = line\n",
    "    records.append(rec)\n",
    "trips_gdf = gpd.GeoDataFrame(records, crs=\"EPSG:4326\")\n",
    "anoms_gdf = trips_gdf[trips_gdf.anomaly_flag==-1]\n",
    "\n",
    "# Publish\n",
    "trips_sdf = GeoAccessor.from_geodataframe(trips_gdf, sr=4326)\n",
    "anoms_sdf = GeoAccessor.from_geodataframe(anoms_gdf, sr=4326)\n",
    "trips_item = trips_sdf.spatial.to_featurelayer(title=\"Voyages\", tags=\"Fishing\")\n",
    "anoms_item = anoms_sdf.spatial.to_featurelayer(title=\"Anomalies\", tags=\"Fishing\")\n",
    "print(trips_item.url, anoms_item.url)"
   ]
  }
 ],
 "metadata": {
  "kernelspec": {
   "display_name": "Python 3",
   "language": "python",
   "name": "python3"
  },
  "language_info": {
   "codemirror_mode": {
    "name": "ipython",
    "version": 3
   },
   "file_extension": ".py",
   "mimetype": "text/x-python",
   "name": "python",
   "nbconvert_exporter": "python",
   "pygments_lexer": "ipython3",
   "version": "3.12.2"
  }
 },
 "nbformat": 4,
 "nbformat_minor": 2
}
